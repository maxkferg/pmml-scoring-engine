{
 "cells": [
  {
   "cell_type": "code",
   "execution_count": 1,
   "metadata": {},
   "outputs": [],
   "source": [
    "import os\n",
    "import sys\n",
    "import numpy as np\n",
    "import tensorflow as tf\n",
    "sys.path.insert(0, '..')\n",
    "from tensorflow import keras\n",
    "from tensorflow.keras import layers, models\n",
    "from tensorflow.image import ResizeMethod\n",
    "from tensorflow.keras.datasets import mnist\n",
    "from tensorflow.keras.models import Sequential\n",
    "from tensorflow.keras.layers import Dense, Dropout, Flatten\n",
    "from tensorflow.keras.layers import Conv2D, MaxPooling2D, GlobalMaxPooling2D\n",
    "from tensorflow.keras import backend as K\n",
    "\n",
    "from models.deepnetwork.converters.keras import convert\n",
    "from models.deepnetwork.core.intermediate import DeepNetwork\n",
    "\n",
    "# Dlib bug\n",
    "os.environ['KMP_DUPLICATE_LIB_OK'] = 'True'\n"
   ]
  },
  {
   "cell_type": "markdown",
   "metadata": {},
   "source": [
    "## Test Latex Compiler"
   ]
  },
  {
   "cell_type": "code",
   "execution_count": 2,
   "metadata": {},
   "outputs": [
    {
     "name": "stdout",
     "output_type": "stream",
     "text": [
      "\\documentclass[12pt,a4paper,twoside]{article}\n"
     ]
    },
    {
     "data": {
      "image/png": "[encoded data removed]",
      "text/plain": [
       "<PIL.PpmImagePlugin.PpmImageFile image mode=RGB size=78x18 at 0x13F3934A8>"
      ]
     },
     "execution_count": 2,
     "metadata": {},
     "output_type": "execute_result"
    }
   ],
   "source": [
    "from PIL import Image\n",
    "from pylatex import Document, NoEscape, SmallText, Command\n",
    "from pdf2image import convert_from_path\n",
    "from pylatex.base_classes.command import Options\n",
    "\n",
    "print(Command('documentclass',\n",
    "         options=Options('12pt', 'a4paper', 'twoside'),\n",
    "         arguments='article').dumps())\n",
    "\n",
    "def render_latex(latex):\n",
    "    \"\"\"Render Latex code to an image\"\"\"\n",
    "    filename = \"jupyter_tmp\"\n",
    "    doc = Document(filename, documentclass='standalone', page_numbers=False)\n",
    "    doc.preamble.append(Command('usepackage', 'amsmath'))\n",
    "    doc.append(SmallText(NoEscape(latex)))\n",
    "    try:\n",
    "        doc.generate_pdf(filename, clean_tex=False)\n",
    "    except Exception as e:\n",
    "        print(\"Silent Error\")\n",
    "    images = convert_from_path(filename + '.pdf')\n",
    "    return images[0]\n",
    "\n",
    "render_latex(r\"hello $\\alpha$\")"
   ]
  },
  {
   "cell_type": "code",
   "execution_count": 3,
   "metadata": {},
   "outputs": [
    {
     "ename": "KeyboardInterrupt",
     "evalue": "",
     "output_type": "error",
     "traceback": [
      "\u001b[0;31m---------------------------------------------------------------------------\u001b[0m",
      "\u001b[0;31mKeyboardInterrupt\u001b[0m                         Traceback (most recent call last)",
      "\u001b[0;32m<ipython-input-3-e4b789b809fa>\u001b[0m in \u001b[0;36m<module>\u001b[0;34m\u001b[0m\n\u001b[1;32m     15\u001b[0m \u001b[0;34m\u001b[0m\u001b[0m\n\u001b[1;32m     16\u001b[0m \u001b[0;31m# the data, split between train and test sets\u001b[0m\u001b[0;34m\u001b[0m\u001b[0;34m\u001b[0m\u001b[0;34m\u001b[0m\u001b[0m\n\u001b[0;32m---> 17\u001b[0;31m \u001b[0;34m(\u001b[0m\u001b[0mx_train\u001b[0m\u001b[0;34m,\u001b[0m \u001b[0my_train\u001b[0m\u001b[0;34m)\u001b[0m\u001b[0;34m,\u001b[0m \u001b[0;34m(\u001b[0m\u001b[0mx_test\u001b[0m\u001b[0;34m,\u001b[0m \u001b[0my_test\u001b[0m\u001b[0;34m)\u001b[0m \u001b[0;34m=\u001b[0m \u001b[0mmnist\u001b[0m\u001b[0;34m.\u001b[0m\u001b[0mload_data\u001b[0m\u001b[0;34m(\u001b[0m\u001b[0;34m)\u001b[0m\u001b[0;34m\u001b[0m\u001b[0;34m\u001b[0m\u001b[0m\n\u001b[0m\u001b[1;32m     18\u001b[0m \u001b[0;34m\u001b[0m\u001b[0m\n\u001b[1;32m     19\u001b[0m \u001b[0;32mif\u001b[0m \u001b[0mK\u001b[0m\u001b[0;34m.\u001b[0m\u001b[0mimage_data_format\u001b[0m\u001b[0;34m(\u001b[0m\u001b[0;34m)\u001b[0m \u001b[0;34m==\u001b[0m \u001b[0;34m'channels_first'\u001b[0m\u001b[0;34m:\u001b[0m\u001b[0;34m\u001b[0m\u001b[0;34m\u001b[0m\u001b[0m\n",
      "\u001b[0;32m/usr/local/miniconda3/envs/pmml3/lib/python3.7/site-packages/tensorflow/python/keras/datasets/mnist.py\u001b[0m in \u001b[0;36mload_data\u001b[0;34m(path)\u001b[0m\n\u001b[1;32m     49\u001b[0m       file_hash='8a61469f7ea1b51cbae51d4f78837e45')\n\u001b[1;32m     50\u001b[0m   \u001b[0;32mwith\u001b[0m \u001b[0mnp\u001b[0m\u001b[0;34m.\u001b[0m\u001b[0mload\u001b[0m\u001b[0;34m(\u001b[0m\u001b[0mpath\u001b[0m\u001b[0;34m)\u001b[0m \u001b[0;32mas\u001b[0m \u001b[0mf\u001b[0m\u001b[0;34m:\u001b[0m\u001b[0;34m\u001b[0m\u001b[0;34m\u001b[0m\u001b[0m\n\u001b[0;32m---> 51\u001b[0;31m     \u001b[0mx_train\u001b[0m\u001b[0;34m,\u001b[0m \u001b[0my_train\u001b[0m \u001b[0;34m=\u001b[0m \u001b[0mf\u001b[0m\u001b[0;34m[\u001b[0m\u001b[0;34m'x_train'\u001b[0m\u001b[0;34m]\u001b[0m\u001b[0;34m,\u001b[0m \u001b[0mf\u001b[0m\u001b[0;34m[\u001b[0m\u001b[0;34m'y_train'\u001b[0m\u001b[0;34m]\u001b[0m\u001b[0;34m\u001b[0m\u001b[0;34m\u001b[0m\u001b[0m\n\u001b[0m\u001b[1;32m     52\u001b[0m     \u001b[0mx_test\u001b[0m\u001b[0;34m,\u001b[0m \u001b[0my_test\u001b[0m \u001b[0;34m=\u001b[0m \u001b[0mf\u001b[0m\u001b[0;34m[\u001b[0m\u001b[0;34m'x_test'\u001b[0m\u001b[0;34m]\u001b[0m\u001b[0;34m,\u001b[0m \u001b[0mf\u001b[0m\u001b[0;34m[\u001b[0m\u001b[0;34m'y_test'\u001b[0m\u001b[0;34m]\u001b[0m\u001b[0;34m\u001b[0m\u001b[0;34m\u001b[0m\u001b[0m\n\u001b[1;32m     53\u001b[0m \u001b[0;34m\u001b[0m\u001b[0m\n",
      "\u001b[0;32m/usr/local/miniconda3/envs/pmml3/lib/python3.7/site-packages/numpy/lib/npyio.py\u001b[0m in \u001b[0;36m__getitem__\u001b[0;34m(self, key)\u001b[0m\n\u001b[1;32m    260\u001b[0m                 return format.read_array(bytes,\n\u001b[1;32m    261\u001b[0m                                          \u001b[0mallow_pickle\u001b[0m\u001b[0;34m=\u001b[0m\u001b[0mself\u001b[0m\u001b[0;34m.\u001b[0m\u001b[0mallow_pickle\u001b[0m\u001b[0;34m,\u001b[0m\u001b[0;34m\u001b[0m\u001b[0;34m\u001b[0m\u001b[0m\n\u001b[0;32m--> 262\u001b[0;31m                                          pickle_kwargs=self.pickle_kwargs)\n\u001b[0m\u001b[1;32m    263\u001b[0m             \u001b[0;32melse\u001b[0m\u001b[0;34m:\u001b[0m\u001b[0;34m\u001b[0m\u001b[0;34m\u001b[0m\u001b[0m\n\u001b[1;32m    264\u001b[0m                 \u001b[0;32mreturn\u001b[0m \u001b[0mself\u001b[0m\u001b[0;34m.\u001b[0m\u001b[0mzip\u001b[0m\u001b[0;34m.\u001b[0m\u001b[0mread\u001b[0m\u001b[0;34m(\u001b[0m\u001b[0mkey\u001b[0m\u001b[0;34m)\u001b[0m\u001b[0;34m\u001b[0m\u001b[0;34m\u001b[0m\u001b[0m\n",
      "\u001b[0;32m/usr/local/miniconda3/envs/pmml3/lib/python3.7/site-packages/numpy/lib/format.py\u001b[0m in \u001b[0;36mread_array\u001b[0;34m(fp, allow_pickle, pickle_kwargs)\u001b[0m\n\u001b[1;32m    732\u001b[0m                     \u001b[0mread_count\u001b[0m \u001b[0;34m=\u001b[0m \u001b[0mmin\u001b[0m\u001b[0;34m(\u001b[0m\u001b[0mmax_read_count\u001b[0m\u001b[0;34m,\u001b[0m \u001b[0mcount\u001b[0m \u001b[0;34m-\u001b[0m \u001b[0mi\u001b[0m\u001b[0;34m)\u001b[0m\u001b[0;34m\u001b[0m\u001b[0;34m\u001b[0m\u001b[0m\n\u001b[1;32m    733\u001b[0m                     \u001b[0mread_size\u001b[0m \u001b[0;34m=\u001b[0m \u001b[0mint\u001b[0m\u001b[0;34m(\u001b[0m\u001b[0mread_count\u001b[0m \u001b[0;34m*\u001b[0m \u001b[0mdtype\u001b[0m\u001b[0;34m.\u001b[0m\u001b[0mitemsize\u001b[0m\u001b[0;34m)\u001b[0m\u001b[0;34m\u001b[0m\u001b[0;34m\u001b[0m\u001b[0m\n\u001b[0;32m--> 734\u001b[0;31m                     \u001b[0mdata\u001b[0m \u001b[0;34m=\u001b[0m \u001b[0m_read_bytes\u001b[0m\u001b[0;34m(\u001b[0m\u001b[0mfp\u001b[0m\u001b[0;34m,\u001b[0m \u001b[0mread_size\u001b[0m\u001b[0;34m,\u001b[0m \u001b[0;34m\"array data\"\u001b[0m\u001b[0;34m)\u001b[0m\u001b[0;34m\u001b[0m\u001b[0;34m\u001b[0m\u001b[0m\n\u001b[0m\u001b[1;32m    735\u001b[0m                     array[i:i+read_count] = numpy.frombuffer(data, dtype=dtype,\n\u001b[1;32m    736\u001b[0m                                                              count=read_count)\n",
      "\u001b[0;32m/usr/local/miniconda3/envs/pmml3/lib/python3.7/site-packages/numpy/lib/format.py\u001b[0m in \u001b[0;36m_read_bytes\u001b[0;34m(fp, size, error_template)\u001b[0m\n\u001b[1;32m    871\u001b[0m         \u001b[0;31m# done about that.  note that regular files can't be non-blocking\u001b[0m\u001b[0;34m\u001b[0m\u001b[0;34m\u001b[0m\u001b[0;34m\u001b[0m\u001b[0m\n\u001b[1;32m    872\u001b[0m         \u001b[0;32mtry\u001b[0m\u001b[0;34m:\u001b[0m\u001b[0;34m\u001b[0m\u001b[0;34m\u001b[0m\u001b[0m\n\u001b[0;32m--> 873\u001b[0;31m             \u001b[0mr\u001b[0m \u001b[0;34m=\u001b[0m \u001b[0mfp\u001b[0m\u001b[0;34m.\u001b[0m\u001b[0mread\u001b[0m\u001b[0;34m(\u001b[0m\u001b[0msize\u001b[0m \u001b[0;34m-\u001b[0m \u001b[0mlen\u001b[0m\u001b[0;34m(\u001b[0m\u001b[0mdata\u001b[0m\u001b[0;34m)\u001b[0m\u001b[0;34m)\u001b[0m\u001b[0;34m\u001b[0m\u001b[0;34m\u001b[0m\u001b[0m\n\u001b[0m\u001b[1;32m    874\u001b[0m             \u001b[0mdata\u001b[0m \u001b[0;34m+=\u001b[0m \u001b[0mr\u001b[0m\u001b[0;34m\u001b[0m\u001b[0;34m\u001b[0m\u001b[0m\n\u001b[1;32m    875\u001b[0m             \u001b[0;32mif\u001b[0m \u001b[0mlen\u001b[0m\u001b[0;34m(\u001b[0m\u001b[0mr\u001b[0m\u001b[0;34m)\u001b[0m \u001b[0;34m==\u001b[0m \u001b[0;36m0\u001b[0m \u001b[0;32mor\u001b[0m \u001b[0mlen\u001b[0m\u001b[0;34m(\u001b[0m\u001b[0mdata\u001b[0m\u001b[0;34m)\u001b[0m \u001b[0;34m==\u001b[0m \u001b[0msize\u001b[0m\u001b[0;34m:\u001b[0m\u001b[0;34m\u001b[0m\u001b[0;34m\u001b[0m\u001b[0m\n",
      "\u001b[0;32m/usr/local/miniconda3/envs/pmml3/lib/python3.7/zipfile.py\u001b[0m in \u001b[0;36mread\u001b[0;34m(self, n)\u001b[0m\n\u001b[1;32m    897\u001b[0m         \u001b[0mself\u001b[0m\u001b[0;34m.\u001b[0m\u001b[0m_offset\u001b[0m \u001b[0;34m=\u001b[0m \u001b[0;36m0\u001b[0m\u001b[0;34m\u001b[0m\u001b[0;34m\u001b[0m\u001b[0m\n\u001b[1;32m    898\u001b[0m         \u001b[0;32mwhile\u001b[0m \u001b[0mn\u001b[0m \u001b[0;34m>\u001b[0m \u001b[0;36m0\u001b[0m \u001b[0;32mand\u001b[0m \u001b[0;32mnot\u001b[0m \u001b[0mself\u001b[0m\u001b[0;34m.\u001b[0m\u001b[0m_eof\u001b[0m\u001b[0;34m:\u001b[0m\u001b[0;34m\u001b[0m\u001b[0;34m\u001b[0m\u001b[0m\n\u001b[0;32m--> 899\u001b[0;31m             \u001b[0mdata\u001b[0m \u001b[0;34m=\u001b[0m \u001b[0mself\u001b[0m\u001b[0;34m.\u001b[0m\u001b[0m_read1\u001b[0m\u001b[0;34m(\u001b[0m\u001b[0mn\u001b[0m\u001b[0;34m)\u001b[0m\u001b[0;34m\u001b[0m\u001b[0;34m\u001b[0m\u001b[0m\n\u001b[0m\u001b[1;32m    900\u001b[0m             \u001b[0;32mif\u001b[0m \u001b[0mn\u001b[0m \u001b[0;34m<\u001b[0m \u001b[0mlen\u001b[0m\u001b[0;34m(\u001b[0m\u001b[0mdata\u001b[0m\u001b[0;34m)\u001b[0m\u001b[0;34m:\u001b[0m\u001b[0;34m\u001b[0m\u001b[0;34m\u001b[0m\u001b[0m\n\u001b[1;32m    901\u001b[0m                 \u001b[0mself\u001b[0m\u001b[0;34m.\u001b[0m\u001b[0m_readbuffer\u001b[0m \u001b[0;34m=\u001b[0m \u001b[0mdata\u001b[0m\u001b[0;34m\u001b[0m\u001b[0;34m\u001b[0m\u001b[0m\n",
      "\u001b[0;32m/usr/local/miniconda3/envs/pmml3/lib/python3.7/zipfile.py\u001b[0m in \u001b[0;36m_read1\u001b[0;34m(self, n)\u001b[0m\n\u001b[1;32m    987\u001b[0m         \u001b[0;32mif\u001b[0m \u001b[0mself\u001b[0m\u001b[0;34m.\u001b[0m\u001b[0m_left\u001b[0m \u001b[0;34m<=\u001b[0m \u001b[0;36m0\u001b[0m\u001b[0;34m:\u001b[0m\u001b[0;34m\u001b[0m\u001b[0;34m\u001b[0m\u001b[0m\n\u001b[1;32m    988\u001b[0m             \u001b[0mself\u001b[0m\u001b[0;34m.\u001b[0m\u001b[0m_eof\u001b[0m \u001b[0;34m=\u001b[0m \u001b[0;32mTrue\u001b[0m\u001b[0;34m\u001b[0m\u001b[0;34m\u001b[0m\u001b[0m\n\u001b[0;32m--> 989\u001b[0;31m         \u001b[0mself\u001b[0m\u001b[0;34m.\u001b[0m\u001b[0m_update_crc\u001b[0m\u001b[0;34m(\u001b[0m\u001b[0mdata\u001b[0m\u001b[0;34m)\u001b[0m\u001b[0;34m\u001b[0m\u001b[0;34m\u001b[0m\u001b[0m\n\u001b[0m\u001b[1;32m    990\u001b[0m         \u001b[0;32mreturn\u001b[0m \u001b[0mdata\u001b[0m\u001b[0;34m\u001b[0m\u001b[0;34m\u001b[0m\u001b[0m\n\u001b[1;32m    991\u001b[0m \u001b[0;34m\u001b[0m\u001b[0m\n",
      "\u001b[0;32m/usr/local/miniconda3/envs/pmml3/lib/python3.7/zipfile.py\u001b[0m in \u001b[0;36m_update_crc\u001b[0;34m(self, newdata)\u001b[0m\n\u001b[1;32m    912\u001b[0m             \u001b[0;31m# No need to compute the CRC if we don't have a reference value\u001b[0m\u001b[0;34m\u001b[0m\u001b[0;34m\u001b[0m\u001b[0;34m\u001b[0m\u001b[0m\n\u001b[1;32m    913\u001b[0m             \u001b[0;32mreturn\u001b[0m\u001b[0;34m\u001b[0m\u001b[0;34m\u001b[0m\u001b[0m\n\u001b[0;32m--> 914\u001b[0;31m         \u001b[0mself\u001b[0m\u001b[0;34m.\u001b[0m\u001b[0m_running_crc\u001b[0m \u001b[0;34m=\u001b[0m \u001b[0mcrc32\u001b[0m\u001b[0;34m(\u001b[0m\u001b[0mnewdata\u001b[0m\u001b[0;34m,\u001b[0m \u001b[0mself\u001b[0m\u001b[0;34m.\u001b[0m\u001b[0m_running_crc\u001b[0m\u001b[0;34m)\u001b[0m\u001b[0;34m\u001b[0m\u001b[0;34m\u001b[0m\u001b[0m\n\u001b[0m\u001b[1;32m    915\u001b[0m         \u001b[0;31m# Check the CRC if we're at the end of the file\u001b[0m\u001b[0;34m\u001b[0m\u001b[0;34m\u001b[0m\u001b[0;34m\u001b[0m\u001b[0m\n\u001b[1;32m    916\u001b[0m         \u001b[0;32mif\u001b[0m \u001b[0mself\u001b[0m\u001b[0;34m.\u001b[0m\u001b[0m_eof\u001b[0m \u001b[0;32mand\u001b[0m \u001b[0mself\u001b[0m\u001b[0;34m.\u001b[0m\u001b[0m_running_crc\u001b[0m \u001b[0;34m!=\u001b[0m \u001b[0mself\u001b[0m\u001b[0;34m.\u001b[0m\u001b[0m_expected_crc\u001b[0m\u001b[0;34m:\u001b[0m\u001b[0;34m\u001b[0m\u001b[0;34m\u001b[0m\u001b[0m\n",
      "\u001b[0;31mKeyboardInterrupt\u001b[0m: "
     ]
    }
   ],
   "source": [
    "'''\n",
    "Trains a simple convnet on the MNIST dataset.\n",
    "\n",
    "Gets to 99.25% test accuracy after 12 epochs\n",
    "(there is still a lot of margin for parameter tuning).\n",
    "16 seconds per epoch on a GRID K520 GPU.\n",
    "'''\n",
    "\n",
    "batch_size = 128\n",
    "num_classes = 10\n",
    "epochs = 1\n",
    "\n",
    "# input image dimensions\n",
    "img_rows, img_cols = 28, 28\n",
    "\n",
    "# the data, split between train and test sets\n",
    "(x_train, y_train), (x_test, y_test) = mnist.load_data()\n",
    "\n",
    "if K.image_data_format() == 'channels_first':\n",
    "    x_train = x_train.reshape(x_train.shape[0], 1, img_rows, img_cols)\n",
    "    x_test = x_test.reshape(x_test.shape[0], 1, img_rows, img_cols)\n",
    "    input_shape = (1, img_rows, img_cols)\n",
    "else:\n",
    "    x_train = x_train.reshape(x_train.shape[0], img_rows, img_cols, 1)\n",
    "    x_test = x_test.reshape(x_test.shape[0], img_rows, img_cols, 1)\n",
    "    input_shape = (img_rows, img_cols, 1)\n",
    "\n",
    "x_train = x_train.astype('float32')\n",
    "x_test = x_test.astype('float32')\n",
    "x_train /= 255\n",
    "x_test /= 255\n",
    "print('x_train shape:', x_train.shape)\n",
    "print(x_train.shape[0], 'train samples')\n",
    "print(x_test.shape[0], 'test samples')\n",
    "\n",
    "# convert class vectors to binary class matrices\n",
    "y_train = keras.utils.to_categorical(y_train, num_classes)\n",
    "y_test = keras.utils.to_categorical(y_test, num_classes)\n"
   ]
  },
  {
   "cell_type": "code",
   "execution_count": null,
   "metadata": {},
   "outputs": [],
   "source": [
    "\"\"\"\n",
    "Train the model\n",
    "\"\"\"\n",
    "model = Sequential()\n",
    "model.add(Conv2D(1, kernel_size=(3, 3),\n",
    "                 activation='relu',\n",
    "                 input_shape=input_shape))\n",
    "model.add(Conv2D(1, (3, 3), activation='relu'))\n",
    "model.add(MaxPooling2D(pool_size=(2, 2)))\n",
    "model.add(Dropout(rate=0.75))\n",
    "model.add(Flatten())\n",
    "model.add(Dense(128, activation='relu'))\n",
    "model.add(Dropout(rate=0.5))\n",
    "model.add(Dense(num_classes, activation='softmax'))\n",
    "\n",
    "model.compile(loss=keras.losses.categorical_crossentropy,\n",
    "              optimizer=keras.optimizers.Adadelta(),\n",
    "              metrics=['accuracy'])\n",
    "\n",
    "#model.fit(x_train, y_train,\n",
    "#          batch_size=batch_size,\n",
    "#          epochs=epochs,\n",
    "#          verbose=1,\n",
    "#          validation_data=(x_test, y_test))\n",
    "#score = model.evaluate(x_test, y_test, verbose=0)\n",
    "#print('Test loss:', score[0])\n",
    "#print('Test accuracy:', score[1])"
   ]
  },
  {
   "cell_type": "markdown",
   "metadata": {},
   "source": [
    "# Smaller Model"
   ]
  },
  {
   "cell_type": "code",
   "execution_count": null,
   "metadata": {},
   "outputs": [],
   "source": [
    "def ResizeLayer(input_shape, output_shape):\n",
    "    output_tensor_shape = (output_shape[0], output_shape[1], 1)\n",
    "    return keras.layers.Lambda( \n",
    "        lambda image: tf.image.resize_images( \n",
    "            image, \n",
    "            output_shape,\n",
    "            method = tf.image.ResizeMethod.BICUBIC,\n",
    "            align_corners = True, # possibly important\n",
    "            preserve_aspect_ratio = True\n",
    "        ), output_shape=output_tensor_shape\n",
    "    )\n",
    "\n",
    "\n",
    "#  Reload the data before we make the images smaller\n",
    "(x_train, y_train), (x_test, y_test) = mnist.load_data()\n",
    "\n",
    "# input image dimensions\n",
    "img_rows, img_cols = 28, 28\n",
    "img_resize_rows, img_resize_cols = 14, 14\n",
    "\n",
    "# Reshape the matrices\n",
    "x_train = x_train.reshape(x_train.shape[0], img_rows, img_cols, 1)\n",
    "x_test = x_test.reshape(x_test.shape[0], img_rows, img_cols, 1)\n",
    "\n",
    "# Make images smaller\n",
    "input_shape = (img_rows, img_cols)\n",
    "image_resize = (img_resize_rows, img_resize_cols)\n",
    "model_input_shape = (img_resize_rows, img_resize_cols, 1)\n",
    "print(\"Resizing:\", input_shape, \"->\", image_resize)\n",
    "print(\"New model input size: \", model_input_shape)\n",
    "\n",
    "resize_model = Sequential()\n",
    "resize_model.add(ResizeLayer(input_shape, image_resize))\n",
    "\n",
    "x_train = resize_model.predict(x_train)\n",
    "x_test = resize_model.predict(x_test)"
   ]
  },
  {
   "cell_type": "code",
   "execution_count": null,
   "metadata": {},
   "outputs": [],
   "source": [
    "'''\n",
    "Trains a simple convnet on the MNIST dataset.\n",
    "\n",
    "Gets to 95% test accuracy after 2 epochs\n",
    "'''\n",
    "\n",
    "batch_size = 128\n",
    "num_classes = 10\n",
    "epochs = 6\n",
    "\n",
    "x_train = x_train.astype('float32')\n",
    "x_test = x_test.astype('float32')\n",
    "x_train /= 255\n",
    "x_test /= 255\n",
    "print('x_train shape:', x_train.shape)\n",
    "print(x_train.shape[0], 'train samples')\n",
    "print(x_test.shape[0], 'test samples')\n",
    "\n",
    "# convert class vectors to binary class matrices\n",
    "y_train = keras.utils.to_categorical(y_train, num_classes)\n",
    "y_test = keras.utils.to_categorical(y_test, num_classes)\n",
    "\n",
    "small_model = Sequential()\n",
    "small_model.add(Conv2D(1, kernel_size=(3, 3),\n",
    "                 activation='relu',\n",
    "                 input_shape=model_input_shape))\n",
    "small_model.add(Conv2D(1, (3, 3), activation='relu'))\n",
    "small_model.add(MaxPooling2D(pool_size=(2, 2)))\n",
    "small_model.add(Dropout(rate=0.75))\n",
    "small_model.add(Flatten())\n",
    "small_model.add(Dense(16, activation='relu'))\n",
    "small_model.add(Dropout(rate=0.5))\n",
    "small_model.add(Dense(num_classes, activation='softmax'))\n",
    "\n",
    "small_model.compile(loss=keras.losses.categorical_crossentropy,\n",
    "              optimizer=keras.optimizers.Adadelta(),\n",
    "              metrics=['accuracy'])\n",
    "\n",
    "small_model.fit(x_train, y_train,\n",
    "          batch_size=batch_size,\n",
    "          epochs=epochs,\n",
    "          verbose=1,\n",
    "          validation_data=(x_test, y_test))\n",
    "score = small_model.evaluate(x_test, y_test, verbose=0)\n",
    "print('Test loss:', score[0])\n",
    "print('Test accuracy:', score[1])"
   ]
  },
  {
   "cell_type": "markdown",
   "metadata": {},
   "source": [
    "# Generating the PMML Model"
   ]
  },
  {
   "cell_type": "code",
   "execution_count": null,
   "metadata": {},
   "outputs": [],
   "source": [
    "\n",
    "def convert_to_functional(sequential):\n",
    "    \"\"\"Convert a Keras sequential model to a functional model\"\"\"\n",
    "    input_layer = layers.Input(batch_shape=sequential.layers[0].input_shape)\n",
    "    prev_layer = input_layer\n",
    "    for layer in sequential.layers:\n",
    "        prev_layer = layer(prev_layer)\n",
    "\n",
    "    return models.Model([input_layer], [prev_layer])"
   ]
  },
  {
   "cell_type": "code",
   "execution_count": null,
   "metadata": {},
   "outputs": [],
   "source": [
    "debug = False \n",
    "class_map = {\n",
    "    0: \"Zero\",\n",
    "    1: \"One\",\n",
    "    2: \"Two\",\n",
    "    3: \"Three\",\n",
    "    4: \"Four\",\n",
    "    5: \"Five\",\n",
    "    6: \"Six\",\n",
    "    7: \"Seven\",\n",
    "    8: \"Eight\",\n",
    "    9: \"Nine\",\n",
    "}\n",
    "\n",
    "output_path = \"./models/small_model.pmml\"\n",
    "weights_path = \"./models/small_model.h5\"\n",
    "description = \"Simple model to detect hand-written digits\"\n",
    "\n",
    "func_model = convert_to_functional(small_model)\n",
    "pmml = convert(func_model, class_map=class_map, description=description)\n",
    "pmml.save_pmml(output_path, weights_path=weights_path, save_weights=True)"
   ]
  },
  {
   "cell_type": "markdown",
   "metadata": {},
   "source": [
    "# Check Model"
   ]
  },
  {
   "cell_type": "code",
   "execution_count": null,
   "metadata": {},
   "outputs": [],
   "source": [
    "import matplotlib.pyplot as plt\n",
    "\n",
    "im = x_test[0,:,:]\n",
    "new_model = DeepNetwork(filename=output_path)\n",
    "prediction = new_model.predict(im)\n",
    "plt.imshow(np.squeeze(im))\n",
    "plt.axis(\"off\")\n",
    "plt.title(prediction)"
   ]
  },
  {
   "cell_type": "code",
   "execution_count": null,
   "metadata": {},
   "outputs": [],
   "source": [
    "new_model = DeepNetwork(filename=output_path)\n",
    "for i in range(3):\n",
    "    for j in range(3):\n",
    "        index = 3*i + j\n",
    "        im = x_test[index,:,:]\n",
    "        plt.subplot(3, 3, index+1)\n",
    "        prediction = new_model.predict(im)\n",
    "        plt.imshow(np.squeeze(im))\n",
    "        plt.axis(\"off\")\n",
    "        plt.title(prediction)"
   ]
  },
  {
   "cell_type": "code",
   "execution_count": null,
   "metadata": {},
   "outputs": [],
   "source": [
    "def get_model_output(batch, layernum):\n",
    "    \"\"\"Return the output of a the keras_model at a certain layer\"\"\"\n",
    "    get_output = K.function([keras_model.layers[0].input],\n",
    "                        [keras_model.layers[layernum].output])\n",
    "    return get_output(batch)"
   ]
  },
  {
   "cell_type": "code",
   "execution_count": null,
   "metadata": {},
   "outputs": [],
   "source": [
    "import array_to_latex as latex\n",
    "\n",
    "def bmatrix(a, squeeze=True, round=False):\n",
    "    \"\"\"Returns a LaTeX bmatrix\n",
    "\n",
    "    :a: numpy array\n",
    "    :returns: LaTeX bmatrix as a string\n",
    "    \"\"\"\n",
    "    frmt = \"{:3.2f}\"\n",
    "    if a.size==1:\n",
    "        out = \"\\\\begin{bmatrix} \\n\"\n",
    "        out += frmt.format(a[0])\n",
    "        out += \"\\n \\\\end{bmatrix}\"\n",
    "        return out\n",
    "    if squeeze:\n",
    "        a = np.squeeze(a)\n",
    "    raw = latex.to_ltx(a, frmt=frmt, arraytype='bmatrix', print_out=False, nargout=1, row=False)\n",
    "    #raw = raw.replace(\"begin{bmatrix}\", \"begin{bmatrix}{*{20}c}\")\n",
    "    #print(raw)\n",
    "    return raw"
   ]
  },
  {
   "cell_type": "code",
   "execution_count": null,
   "metadata": {},
   "outputs": [],
   "source": [
    "keras_model = new_model.get_keras_model()\n",
    "for layer in keras_model.layers:\n",
    "    weights = layer.get_weights()\n",
    "    for w in weights:\n",
    "        print(layer.name, w.shape)\n"
   ]
  },
  {
   "cell_type": "markdown",
   "metadata": {},
   "source": [
    "## First Convolution Layer"
   ]
  },
  {
   "cell_type": "code",
   "execution_count": null,
   "metadata": {},
   "outputs": [],
   "source": [
    "batch = x_test[0:1,:,:]\n",
    "image = x_test[0,:,:]\n",
    "layer = keras_model.layers[1]\n",
    "weights = layer.get_weights()\n",
    "raw = r\"$\\setcounter{MaxMatrixCols}{20}\" + \"\\n\"\n",
    "raw += r\"\\begin{aligned}\" + \"\\n\"\n",
    "raw += \"x_1 &= \" + bmatrix(image) + \"\\\\\\\\\\n\"\n",
    "raw += \"W_1 &= \" + bmatrix(weights[0]) + \"\\\\\\\\\\n\"\n",
    "raw += \"b_1 &= \" + bmatrix(weights[1]) + r\"\\\\ \\\\\" + \"\\n\"\n",
    "raw += \"a_1 &= \\\\text{ReLU}(W_1 * x_1 + b_1)\" + \"\\\\\\\\\\n\"\n",
    "raw += \"    &= \" + bmatrix(get_model_output(batch, layernum=1)[0]) + \"\\\\\\\\\\n\"\n",
    "raw += r\"\\end{aligned}$\"\n",
    "\n",
    "img = render_latex(raw)\n",
    "img"
   ]
  },
  {
   "cell_type": "markdown",
   "metadata": {},
   "source": [
    "## Second Convolution Layer"
   ]
  },
  {
   "cell_type": "code",
   "execution_count": null,
   "metadata": {},
   "outputs": [],
   "source": [
    "layer = keras_model.layers[2]\n",
    "weights = layer.get_weights()\n",
    "raw = r\"$\\setcounter{MaxMatrixCols}{20}\" + \"\\n\"\n",
    "raw += r\"\\begin{aligned}\" + \"\\n\"\n",
    "#raw += \"x_1 &= \" + bmatrix(image) + \"\\\\\\\\\\n\"\n",
    "raw += \"W_2 &= \" + bmatrix(weights[0]) + \"\\\\\\\\\\n\"\n",
    "raw += \"b_2 &= \" + bmatrix(weights[1]) + r\"\\\\ \\\\\" + \"\\n\"\n",
    "raw += \"a_2 &= \\\\text{ReLU}(W_2 * a_1 + b_2)\" + \"\\\\\\\\\\n\"\n",
    "raw += \"    &= \" + bmatrix(get_model_output(batch, layernum=2)[0]) + \"\\\\\\\\\\n\"\n",
    "raw += r\"\\end{aligned}$\"\n",
    "\n",
    "img = render_latex(raw)\n",
    "img"
   ]
  },
  {
   "cell_type": "code",
   "execution_count": null,
   "metadata": {},
   "outputs": [],
   "source": [
    "img"
   ]
  },
  {
   "cell_type": "markdown",
   "metadata": {},
   "source": [
    "## First Max Pooling Layer"
   ]
  },
  {
   "cell_type": "code",
   "execution_count": null,
   "metadata": {},
   "outputs": [],
   "source": [
    "raw = r\"$\\begin{aligned}\" + \"\\n\"\n",
    "raw += r\"a_3 &= MaxPool(a_2) \\\\\" + \"\\n\"\n",
    "raw += r\"&= \" + bmatrix(get_model_output(batch, layernum=3)[0]) + \"\\n\"\n",
    "raw += r\"\\end{aligned}$\"\n",
    "#print(raw)\n",
    "\n",
    "img = render_latex(raw)\n",
    "img"
   ]
  },
  {
   "cell_type": "markdown",
   "metadata": {},
   "source": [
    "## Flatten"
   ]
  },
  {
   "cell_type": "code",
   "execution_count": null,
   "metadata": {},
   "outputs": [],
   "source": [
    "raw = r\"$\\begin{aligned}\" + \"\\n\"\n",
    "raw += r\"a_4 &= Flatten(a_3) \\\\\" + \"\\n\"\n",
    "raw += r\"&= \" + bmatrix(get_model_output(batch, layernum=5)[0]) + \"\\n\"\n",
    "raw += r\"\\end{aligned}$\"\n",
    "#print(raw)\n",
    "\n",
    "img = render_latex(raw)\n",
    "img"
   ]
  },
  {
   "cell_type": "markdown",
   "metadata": {},
   "source": [
    "## First Dense Layer"
   ]
  },
  {
   "cell_type": "code",
   "execution_count": null,
   "metadata": {},
   "outputs": [],
   "source": [
    "layernum = 6\n",
    "layer = keras_model.layers[layernum]\n",
    "weights = layer.get_weights()\n",
    "raw = r\"$\\setcounter{MaxMatrixCols}{20}\" + \"\\n\"\n",
    "raw += r\"\\begin{aligned}\" + \"\\n\"\n",
    "raw += \"W_5 &= \" + bmatrix(weights[0]) + \"\\\\\\\\\\n\"\n",
    "raw += \"b_5 &= \" + bmatrix(weights[1]) + r\"\\\\ \\\\\" + \"\\n\"\n",
    "raw += \"a_5 &= \\\\text{ReLU}(W_5 a_5 + b_5)\" + \"\\\\\\\\\\n\"\n",
    "raw += \"    &= \" + bmatrix(get_model_output(batch, layernum=layernum)[0]) + \"\\\\\\\\\\n\"\n",
    "raw += r\"\\end{aligned}$\"\n",
    "\n",
    "img = render_latex(raw)\n",
    "img"
   ]
  },
  {
   "cell_type": "markdown",
   "metadata": {},
   "source": [
    "## Second Dense Layer¶"
   ]
  },
  {
   "cell_type": "code",
   "execution_count": null,
   "metadata": {},
   "outputs": [],
   "source": [
    "layernum = 8\n",
    "layer = keras_model.layers[layernum]\n",
    "weights = layer.get_weights()\n",
    "output =  get_model_output(batch, layernum=layernum)[0]\n",
    "\n",
    "raw = r\"$\\setcounter{MaxMatrixCols}{20}\" + \"\\n\"\n",
    "raw += r\"\\begin{aligned}\" + \"\\n\"\n",
    "raw += \"W_6 &= \" + bmatrix(weights[0]) + \"\\\\\\\\\\n\"\n",
    "raw += \"b_6 &= \" + bmatrix(weights[1]) + r\"\\\\ \\\\\" + \"\\n\"\n",
    "raw += \"a_6 &= \\\\text{ReLU}(W_6 a_5 + b_6)\" + \"\\\\\\\\\\n\"\n",
    "raw += \"    &= \" + bmatrix(output[0]) + \"\\\\\\\\\\n\"\n",
    "raw += r\"\\end{aligned}$\"\n",
    "\n",
    "img = render_latex(raw)\n",
    "img"
   ]
  },
  {
   "cell_type": "code",
   "execution_count": null,
   "metadata": {},
   "outputs": [],
   "source": [
    "layernum = 8\n",
    "argmax = np.argmax(output)\n",
    "raw =  r\"$\\begin{aligned}\" + \"\\n\"\n",
    "raw += r\"\\text{index} &= \\arg\\max (a_6) \\\\\" + \"\\n\"\n",
    "raw += r\"&= \\arg\\max \" + bmatrix(weights[1]) + r\"\\\\\" + \"\\n\"\n",
    "raw += r\"&= \" + str(argmax) + \" \\end{aligned}$\" + \"\\n\"\n",
    "\n",
    "img = render_latex(raw)\n",
    "img"
   ]
  },
  {
   "cell_type": "markdown",
   "metadata": {},
   "source": [
    "# Weights\n"
   ]
  },
  {
   "cell_type": "code",
   "execution_count": 1,
   "metadata": {},
   "outputs": [
    {
     "name": "stdout",
     "output_type": "stream",
     "text": [
      "{\n",
      "  \"/\": {},\n",
      "  \"conv2d_2\": {\n",
      "    \"bias:0\": [\n",
      "      0.16033408045768738\n",
      "    ],\n",
      "    \"kernel:0\": \"<Tensor shape=(3, 3, 1, 1)>\"\n",
      "  },\n",
      "  \"conv2d_3\": {\n",
      "    \"bias:0\": [\n",
      "      -0.1472928673028946\n",
      "    ],\n",
      "    \"kernel:0\": \"<Tensor shape=(3, 3, 1, 1)>\"\n",
      "  },\n",
      "  \"dense_2\": {\n",
      "    \"bias:0\": \"<Tensor shape=(16,)>\",\n",
      "    \"kernel:0\": \"<Tensor shape=(25, 16)>\"\n",
      "  },\n",
      "  \"dense_3\": {\n",
      "    \"bias:0\": \"<Tensor shape=(10,)>\",\n",
      "    \"kernel:0\": \"<Tensor shape=(16, 10)>\"\n",
      "  },\n",
      "  \"dropout_2\": {},\n",
      "  \"dropout_3\": {},\n",
      "  \"flatten_1\": {},\n",
      "  \"input_2\": {},\n",
      "  \"max_pooling2d_1\": {}\n",
      "}\n"
     ]
    }
   ],
   "source": [
    "from utils.h5json import converter\n",
    "from tables import open_file\n",
    "\n",
    "import h5py\n",
    "import json\n",
    "\n",
    "data = converter(open_file(\"models/small_model.h5\",\"r\"))\n",
    "contents = data.to_json()\n",
    "print(contents)"
   ]
  },
  {
   "cell_type": "code",
   "execution_count": null,
   "metadata": {},
   "outputs": [],
   "source": [
    "a = file['conv2d_2']['conv2d_2/kernel:0']"
   ]
  },
  {
   "cell_type": "code",
   "execution_count": null,
   "metadata": {},
   "outputs": [],
   "source": [
    "a"
   ]
  },
  {
   "cell_type": "code",
   "execution_count": null,
   "metadata": {},
   "outputs": [],
   "source": [
    "np.squeeze(a)"
   ]
  },
  {
   "cell_type": "code",
   "execution_count": null,
   "metadata": {},
   "outputs": [],
   "source": [
    "file['conv2d_2']['conv2d_2/kernel:0']"
   ]
  }
 ],
 "metadata": {
  "kernelspec": {
   "display_name": "Python 3",
   "language": "python",
   "name": "python3"
  },
  "language_info": {
   "codemirror_mode": {
    "name": "ipython",
    "version": 3
   },
   "file_extension": ".py",
   "mimetype": "text/x-python",
   "name": "python",
   "nbconvert_exporter": "python",
   "pygments_lexer": "ipython3",
   "version": "3.7.3"
  }
 },
 "nbformat": 4,
 "nbformat_minor": 2
}
